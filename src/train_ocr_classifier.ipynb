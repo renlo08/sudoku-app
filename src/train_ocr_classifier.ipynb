{
 "cells": [
  {
   "cell_type": "code",
   "execution_count": 1,
   "metadata": {},
   "outputs": [],
   "source": ""
  },
  {
   "cell_type": "code",
   "execution_count": 2,
   "metadata": {},
   "outputs": [],
   "source": [
    "### defining some function to make our work easier\n",
    "import matplotlib.pyplot as plt\n",
    "\n",
    "# This function will plot images in the form of a grid with 1 row and 5 columns where images are placed in each column.\n",
    "def plot_images(images_arr, imageWidth, imageHeight):\n",
    "    fig, axes = plt.subplots(1, 5, figsize=(20, 20))\n",
    "    axes = axes.flatten()\n",
    "    for img, ax in zip(images_arr, axes):\n",
    "        ax.imshow(img.reshape(imageWidth, imageHeight), cmap=\"gray\")\n",
    "        ax.axis(\"off\")\n",
    "    plt.tight_layout()\n",
    "    plt.show()"
   ]
  },
  {
   "cell_type": "code",
   "execution_count": 3,
   "metadata": {},
   "outputs": [],
   "source": [
    "MODEL_WEIGHT_PATH = get_app_dir() / 'res' / 'ocr_model_weights.h5'\n",
    "OCR_DATASET_PATH = get_app_dir() / 'res' / 'data'\n",
    "MOMENTUM = 0.9\n",
    "EPOCHS = 50\n",
    "BS = 32\n",
    "IMG_HEIGHT = 28\n",
    "IMG_WIDTH = 28"
   ]
  },
  {
   "cell_type": "code",
   "execution_count": 4,
   "metadata": {},
   "outputs": [],
   "source": [
    "def preprocessing_fun(img):\n",
    "    #invert color\n",
    "    return 1 - img"
   ]
  },
  {
   "cell_type": "code",
   "execution_count": 5,
   "metadata": {},
   "outputs": [],
   "source": [
    "augmented_image_gen = ImageDataGenerator(\n",
    "    preprocessing_function=preprocessing_fun,\n",
    "    rescale = 1/255.0,\n",
    "    rotation_range=2,\n",
    "    width_shift_range=.1,\n",
    "    height_shift_range=.1,\n",
    "    zoom_range=0.1,\n",
    "    shear_range=2,\n",
    "    brightness_range=[0.9, 1.1],\n",
    "    validation_split=0.2)\n",
    "\n",
    "normal_image_gen = ImageDataGenerator(\n",
    "    preprocessing_function=preprocessing_fun,\n",
    "    rescale = 1/255.0,\n",
    "    validation_split=0.2)\n",
    "\n",
    "test_image_gen = ImageDataGenerator(\n",
    "    preprocessing_function=preprocessing_fun,\n",
    "    rescale = 1/255.0)\n"
   ]
  },
  {
   "cell_type": "code",
   "execution_count": 6,
   "metadata": {},
   "outputs": [
    {
     "name": "stdout",
     "output_type": "stream",
     "text": [
      "Found 4590 images belonging to 10 classes.\n",
      "Found 1140 images belonging to 10 classes.\n",
      "Found 280 images belonging to 10 classes.\n"
     ]
    }
   ],
   "source": [
    "train_data_gen = augmented_image_gen.flow_from_directory(batch_size=BS,\n",
    "                                                     directory=OCR_DATASET_PATH / \"training_data\",\n",
    "                                                     color_mode=\"grayscale\",\n",
    "                                                     shuffle=True,\n",
    "                                                     target_size=(IMG_HEIGHT, IMG_WIDTH),\n",
    "                                                     class_mode=\"categorical\",\n",
    "                                                     seed=65657867,\n",
    "                                                     subset='training')\n",
    "val_data_gen = augmented_image_gen.flow_from_directory(batch_size=BS,\n",
    "                                                     directory=OCR_DATASET_PATH / \"training_data\",\n",
    "                                                     color_mode=\"grayscale\",\n",
    "                                                     shuffle=True,\n",
    "                                                     target_size=(IMG_HEIGHT, IMG_WIDTH),\n",
    "                                                     class_mode=\"categorical\",\n",
    "                                                     seed=65657867,\n",
    "                                                     subset='validation')\n",
    "\n",
    "test_data_gen = test_image_gen.flow_from_directory(batch_size=BS,\n",
    "                                                    directory=OCR_DATASET_PATH / \"testing_data\",\n",
    "                                                    color_mode=\"grayscale\",\n",
    "                                                    shuffle=False,\n",
    "                                                    target_size=(IMG_HEIGHT, IMG_WIDTH),\n",
    "                                                    class_mode=\"categorical\")"
   ]
  },
  {
   "cell_type": "code",
   "execution_count": 7,
   "metadata": {},
   "outputs": [
    {
     "data": {
      "image/png": "[encoded data removed]",
      "text/plain": [
       "<Figure size 2000x2000 with 5 Axes>"
      ]
     },
     "metadata": {},
     "output_type": "display_data"
    }
   ],
   "source": [
    "sample_training_images, _ = next(train_data_gen)\n",
    "plot_images(sample_training_images[:7], IMG_WIDTH, IMG_HEIGHT)"
   ]
  },
  {
   "cell_type": "code",
   "execution_count": 8,
   "metadata": {},
   "outputs": [],
   "source": [
    "def create_callbacks():\n",
    "    #Prepare call backs\n",
    "    EarlyStop_callback = EarlyStopping(monitor='val_loss', patience=20, restore_best_weights=True)\n",
    "    checkpoint = ModelCheckpoint(MODEL_WEIGHT_PATH, monitor = 'val_loss',\n",
    "                                mode = 'min',save_best_only= True, save_weights_only=True)\n",
    "    return [EarlyStop_callback, checkpoint]"
   ]
  },
  {
   "cell_type": "code",
   "execution_count": 9,
   "metadata": {},
   "outputs": [],
   "source": [
    "def setup_optimizer():\n",
    "    #lr = ReduceLROnPlateau(monitor='val_loss', factor=0.5, patience=3, min_lr=0.00001)\n",
    "    return SGD(learning_rate=0.01, momentum=MOMENTUM)"
   ]
  },
  {
   "cell_type": "code",
   "execution_count": 10,
   "metadata": {},
   "outputs": [],
   "source": [
    "def fit_model(train_data_gen, val_data_gen):\n",
    "    \"\"\" Fit SudokuNet \"\"\"\n",
    "    \n",
    "    # initialize the optimizer and model\n",
    "    print(\"[INFO] compiling model...\")\n",
    "    opt = setup_optimizer()\n",
    "    model = SudokuNet.build(width=IMG_WIDTH, height=IMG_HEIGHT, depth=1, classes=10)\n",
    "    model.compile(loss=\"categorical_crossentropy\", optimizer=opt, metrics=[\"accuracy\"])\n",
    "\n",
    "    # define the callbacks\n",
    "    my_callback = create_callbacks()\n",
    "\n",
    "    if Path.exists(MODEL_WEIGHT_PATH):\n",
    "        model.load_weights(MODEL_WEIGHT_PATH)\n",
    "        history = None\n",
    "    else:\n",
    "        # train the network\n",
    "        print(\"[INFO] training network...\")\n",
    "        history = model.fit(\n",
    "            train_data_gen,\n",
    "            steps_per_epoch=train_data_gen.samples // BS,\n",
    "            epochs=EPOCHS,\n",
    "            validation_data=val_data_gen,\n",
    "            validation_steps=val_data_gen.samples // BS,\n",
    "            callbacks = my_callback)\n",
    "\n",
    "    return history, model"
   ]
  },
  {
   "cell_type": "code",
   "execution_count": 11,
   "metadata": {},
   "outputs": [
    {
     "name": "stdout",
     "output_type": "stream",
     "text": [
      "[INFO] compiling model...\n",
      "[INFO] training network...\n"
     ]
    },
    {
     "name": "stderr",
     "output_type": "stream",
     "text": [
      "2022-12-14 23:45:21.759831: I tensorflow/core/platform/cpu_feature_guard.cc:193] This TensorFlow binary is optimized with oneAPI Deep Neural Network Library (oneDNN) to use the following CPU instructions in performance-critical operations:  SSE4.1 SSE4.2 AVX\n",
      "To enable them in other operations, rebuild TensorFlow with the appropriate compiler flags.\n"
     ]
    },
    {
     "name": "stdout",
     "output_type": "stream",
     "text": [
      "Epoch 1/50\n",
      "143/143 [==============================] - 14s 90ms/step - loss: 2.1937 - accuracy: 0.1709 - val_loss: 1.7155 - val_accuracy: 0.5063\n",
      "Epoch 2/50\n",
      "143/143 [==============================] - 11s 75ms/step - loss: 1.3833 - accuracy: 0.5070 - val_loss: 0.5082 - val_accuracy: 0.8946\n",
      "Epoch 3/50\n",
      "143/143 [==============================] - 11s 75ms/step - loss: 0.7170 - accuracy: 0.7591 - val_loss: 0.1839 - val_accuracy: 0.9554\n",
      "Epoch 4/50\n",
      "143/143 [==============================] - 10s 72ms/step - loss: 0.5163 - accuracy: 0.8412 - val_loss: 0.1507 - val_accuracy: 0.9616\n",
      "Epoch 5/50\n",
      "143/143 [==============================] - 10s 73ms/step - loss: 0.3913 - accuracy: 0.8701 - val_loss: 0.0904 - val_accuracy: 0.9777\n",
      "Epoch 6/50\n",
      "143/143 [==============================] - 11s 74ms/step - loss: 0.3187 - accuracy: 0.9013 - val_loss: 0.0795 - val_accuracy: 0.9777\n",
      "Epoch 7/50\n",
      "143/143 [==============================] - 10s 71ms/step - loss: 0.2924 - accuracy: 0.9116 - val_loss: 0.1122 - val_accuracy: 0.9643\n",
      "Epoch 8/50\n",
      "143/143 [==============================] - 10s 73ms/step - loss: 0.2710 - accuracy: 0.9160 - val_loss: 0.0925 - val_accuracy: 0.9759\n",
      "Epoch 9/50\n",
      "143/143 [==============================] - 10s 71ms/step - loss: 0.2287 - accuracy: 0.9261 - val_loss: 0.0940 - val_accuracy: 0.9723\n",
      "Epoch 10/50\n",
      "143/143 [==============================] - 10s 71ms/step - loss: 0.2262 - accuracy: 0.9276 - val_loss: 0.0661 - val_accuracy: 0.9795\n",
      "Epoch 11/50\n",
      "143/143 [==============================] - 10s 71ms/step - loss: 0.2020 - accuracy: 0.9408 - val_loss: 0.0567 - val_accuracy: 0.9839\n",
      "Epoch 12/50\n",
      "143/143 [==============================] - 10s 71ms/step - loss: 0.1840 - accuracy: 0.9443 - val_loss: 0.0566 - val_accuracy: 0.9857\n",
      "Epoch 13/50\n",
      "143/143 [==============================] - 10s 72ms/step - loss: 0.1563 - accuracy: 0.9511 - val_loss: 0.0749 - val_accuracy: 0.9821\n",
      "Epoch 14/50\n",
      "143/143 [==============================] - 10s 71ms/step - loss: 0.1702 - accuracy: 0.9471 - val_loss: 0.0552 - val_accuracy: 0.9839\n",
      "Epoch 15/50\n",
      "143/143 [==============================] - 10s 70ms/step - loss: 0.1582 - accuracy: 0.9526 - val_loss: 0.0654 - val_accuracy: 0.9830\n",
      "Epoch 16/50\n",
      "143/143 [==============================] - 10s 72ms/step - loss: 0.1460 - accuracy: 0.9566 - val_loss: 0.0549 - val_accuracy: 0.9884\n",
      "Epoch 17/50\n",
      "143/143 [==============================] - 10s 72ms/step - loss: 0.1440 - accuracy: 0.9555 - val_loss: 0.0296 - val_accuracy: 0.9884\n",
      "Epoch 18/50\n",
      "143/143 [==============================] - 10s 70ms/step - loss: 0.1440 - accuracy: 0.9557 - val_loss: 0.0534 - val_accuracy: 0.9804\n",
      "Epoch 19/50\n",
      "143/143 [==============================] - 10s 72ms/step - loss: 0.1346 - accuracy: 0.9599 - val_loss: 0.0669 - val_accuracy: 0.9839\n",
      "Epoch 20/50\n",
      "143/143 [==============================] - 11s 75ms/step - loss: 0.1343 - accuracy: 0.9609 - val_loss: 0.0623 - val_accuracy: 0.9848\n",
      "Epoch 21/50\n",
      "143/143 [==============================] - 10s 70ms/step - loss: 0.1517 - accuracy: 0.9539 - val_loss: 0.0468 - val_accuracy: 0.9839\n",
      "Epoch 22/50\n",
      "143/143 [==============================] - 10s 71ms/step - loss: 0.1330 - accuracy: 0.9590 - val_loss: 0.0374 - val_accuracy: 0.9902\n",
      "Epoch 23/50\n",
      "143/143 [==============================] - 10s 71ms/step - loss: 0.1064 - accuracy: 0.9656 - val_loss: 0.0337 - val_accuracy: 0.9884\n",
      "Epoch 24/50\n",
      "143/143 [==============================] - 13s 89ms/step - loss: 0.1125 - accuracy: 0.9708 - val_loss: 0.0299 - val_accuracy: 0.9902\n",
      "Epoch 25/50\n",
      "143/143 [==============================] - 12s 83ms/step - loss: 0.1151 - accuracy: 0.9658 - val_loss: 0.0656 - val_accuracy: 0.9812\n",
      "Epoch 26/50\n",
      "143/143 [==============================] - 12s 81ms/step - loss: 0.1453 - accuracy: 0.9581 - val_loss: 0.0402 - val_accuracy: 0.9875\n",
      "Epoch 27/50\n",
      "143/143 [==============================] - 12s 82ms/step - loss: 0.1225 - accuracy: 0.9636 - val_loss: 0.0421 - val_accuracy: 0.9875\n",
      "Epoch 28/50\n",
      "143/143 [==============================] - 12s 82ms/step - loss: 0.0958 - accuracy: 0.9691 - val_loss: 0.0337 - val_accuracy: 0.9893\n",
      "Epoch 29/50\n",
      "143/143 [==============================] - 12s 82ms/step - loss: 0.1105 - accuracy: 0.9634 - val_loss: 0.0492 - val_accuracy: 0.9866\n",
      "Epoch 30/50\n",
      "143/143 [==============================] - 12s 81ms/step - loss: 0.1175 - accuracy: 0.9631 - val_loss: 0.0376 - val_accuracy: 0.9911\n",
      "Epoch 31/50\n",
      "143/143 [==============================] - 12s 82ms/step - loss: 0.0967 - accuracy: 0.9684 - val_loss: 0.0325 - val_accuracy: 0.9920\n",
      "Epoch 32/50\n",
      "143/143 [==============================] - 12s 82ms/step - loss: 0.0894 - accuracy: 0.9739 - val_loss: 0.0498 - val_accuracy: 0.9848\n",
      "Epoch 33/50\n",
      "143/143 [==============================] - 12s 84ms/step - loss: 0.1032 - accuracy: 0.9675 - val_loss: 0.0375 - val_accuracy: 0.9875\n",
      "Epoch 34/50\n",
      "143/143 [==============================] - 12s 82ms/step - loss: 0.0968 - accuracy: 0.9691 - val_loss: 0.0230 - val_accuracy: 0.9920\n",
      "Epoch 35/50\n",
      "143/143 [==============================] - 12s 82ms/step - loss: 0.0800 - accuracy: 0.9752 - val_loss: 0.0534 - val_accuracy: 0.9795\n",
      "Epoch 36/50\n",
      "143/143 [==============================] - 12s 81ms/step - loss: 0.0851 - accuracy: 0.9741 - val_loss: 0.0418 - val_accuracy: 0.9848\n",
      "Epoch 37/50\n",
      "143/143 [==============================] - 12s 81ms/step - loss: 0.0993 - accuracy: 0.9708 - val_loss: 0.0579 - val_accuracy: 0.9821\n",
      "Epoch 38/50\n",
      "143/143 [==============================] - 12s 82ms/step - loss: 0.0957 - accuracy: 0.9717 - val_loss: 0.0572 - val_accuracy: 0.9866\n",
      "Epoch 39/50\n",
      "143/143 [==============================] - 12s 81ms/step - loss: 0.0893 - accuracy: 0.9750 - val_loss: 0.0482 - val_accuracy: 0.9893\n",
      "Epoch 40/50\n",
      "143/143 [==============================] - 12s 82ms/step - loss: 0.0654 - accuracy: 0.9776 - val_loss: 0.0240 - val_accuracy: 0.9911\n",
      "Epoch 41/50\n",
      "143/143 [==============================] - 12s 80ms/step - loss: 0.0859 - accuracy: 0.9726 - val_loss: 0.0262 - val_accuracy: 0.9929\n",
      "Epoch 42/50\n",
      "143/143 [==============================] - 12s 82ms/step - loss: 0.0862 - accuracy: 0.9735 - val_loss: 0.0398 - val_accuracy: 0.9902\n",
      "Epoch 43/50\n",
      "143/143 [==============================] - 13s 90ms/step - loss: 0.0813 - accuracy: 0.9770 - val_loss: 0.0408 - val_accuracy: 0.9884\n",
      "Epoch 44/50\n",
      "143/143 [==============================] - 12s 81ms/step - loss: 0.0675 - accuracy: 0.9811 - val_loss: 0.0420 - val_accuracy: 0.9884\n",
      "Epoch 45/50\n",
      "143/143 [==============================] - 12s 81ms/step - loss: 0.0794 - accuracy: 0.9767 - val_loss: 0.0288 - val_accuracy: 0.9920\n",
      "Epoch 46/50\n",
      "143/143 [==============================] - 12s 81ms/step - loss: 0.0717 - accuracy: 0.9759 - val_loss: 0.0350 - val_accuracy: 0.9911\n",
      "Epoch 47/50\n",
      "143/143 [==============================] - 12s 81ms/step - loss: 0.0666 - accuracy: 0.9807 - val_loss: 0.0353 - val_accuracy: 0.9884\n",
      "Epoch 48/50\n",
      "143/143 [==============================] - 12s 82ms/step - loss: 0.0608 - accuracy: 0.9805 - val_loss: 0.0251 - val_accuracy: 0.9911\n",
      "Epoch 49/50\n",
      "143/143 [==============================] - 12s 86ms/step - loss: 0.0735 - accuracy: 0.9781 - val_loss: 0.0329 - val_accuracy: 0.9875\n",
      "Epoch 50/50\n",
      "143/143 [==============================] - 12s 82ms/step - loss: 0.0647 - accuracy: 0.9794 - val_loss: 0.0403 - val_accuracy: 0.9902\n"
     ]
    }
   ],
   "source": [
    "history, model = fit_model(train_data_gen=train_data_gen, val_data_gen=val_data_gen)"
   ]
  },
  {
   "cell_type": "code",
   "execution_count": 12,
   "metadata": {},
   "outputs": [],
   "source": [
    "def load_classifier_model():\n",
    "    print(\"[INFO] loading model...\")\n",
    "    opt = setup_optimizer()\n",
    "    model = SudokuNet.build(width=IMG_WIDTH, height=IMG_HEIGHT, depth=1, classes=10)\n",
    "    # model.compile(loss=\"categorical_crossentropy\", optimizer=opt, metrics=[\"accuracy\"])\n",
    "    model.load_weights(MODEL_WEIGHT_PATH)\n",
    "    return model"
   ]
  },
  {
   "cell_type": "code",
   "execution_count": 13,
   "metadata": {},
   "outputs": [],
   "source": [
    "def evaluate_model_performance(generator, model):\n",
    "    \"\"\" Evaluate model \"\"\"\n",
    "    # evaluate the network\n",
    "    print(\"[INFO] evaluating network...\")\n",
    "    predictions = model.predict(generator)\n",
    "    labels = generator.classes\n",
    "    print(classification_report(\n",
    "        labels,\n",
    "        predictions.argmax(axis=1),\n",
    "        target_names=[str(x) for x in range(10)]))"
   ]
  },
  {
   "cell_type": "code",
   "execution_count": 14,
   "metadata": {},
   "outputs": [
    {
     "name": "stdout",
     "output_type": "stream",
     "text": [
      "Found 5730 images belonging to 10 classes.\n"
     ]
    }
   ],
   "source": [
    "# For evaluation we need to create the generator new with 'shuffle=False'\n",
    "train_data_gen = augmented_image_gen.flow_from_directory(batch_size=BS,\n",
    "                                                     directory=OCR_DATASET_PATH / \"training_data\",\n",
    "                                                     color_mode=\"grayscale\",\n",
    "                                                     shuffle=False,\n",
    "                                                     target_size=(IMG_HEIGHT, IMG_WIDTH),\n",
    "                                                     class_mode=\"categorical\")\n"
   ]
  },
  {
   "cell_type": "code",
   "execution_count": 15,
   "metadata": {},
   "outputs": [
    {
     "name": "stdout",
     "output_type": "stream",
     "text": [
      "[INFO] loading model...\n",
      "######### CLASSIFICATION REPORT ON TRAINING #########\n",
      "[INFO] evaluating network...\n",
      "180/180 [==============================] - 10s 55ms/step\n",
      "              precision    recall  f1-score   support\n",
      "\n",
      "           0       1.00      0.99      1.00       573\n",
      "           1       1.00      0.98      0.99       573\n",
      "           2       0.99      1.00      1.00       573\n",
      "           3       1.00      0.99      0.99       573\n",
      "           4       1.00      1.00      1.00       573\n",
      "           5       0.99      1.00      1.00       573\n",
      "           6       0.99      1.00      1.00       573\n",
      "           7       0.98      0.99      0.99       573\n",
      "           8       1.00      0.99      0.99       573\n",
      "           9       0.99      1.00      0.99       573\n",
      "\n",
      "    accuracy                           0.99      5730\n",
      "   macro avg       0.99      0.99      0.99      5730\n",
      "weighted avg       0.99      0.99      0.99      5730\n",
      "\n",
      "######### CLASSIFICATION REPORT ON TEST #########\n",
      "[INFO] evaluating network...\n",
      "9/9 [==============================] - 0s 31ms/step\n",
      "              precision    recall  f1-score   support\n",
      "\n",
      "           0       1.00      1.00      1.00        28\n",
      "           1       1.00      1.00      1.00        28\n",
      "           2       1.00      1.00      1.00        28\n",
      "           3       1.00      1.00      1.00        28\n",
      "           4       1.00      1.00      1.00        28\n",
      "           5       1.00      1.00      1.00        28\n",
      "           6       1.00      1.00      1.00        28\n",
      "           7       1.00      1.00      1.00        28\n",
      "           8       1.00      1.00      1.00        28\n",
      "           9       1.00      1.00      1.00        28\n",
      "\n",
      "    accuracy                           1.00       280\n",
      "   macro avg       1.00      1.00      1.00       280\n",
      "weighted avg       1.00      1.00      1.00       280\n",
      "\n"
     ]
    }
   ],
   "source": [
    "model = load_classifier_model()\n",
    "print(\"######### CLASSIFICATION REPORT ON TRAINING #########\")\n",
    "evaluate_model_performance(train_data_gen, model)\n",
    "print(\"######### CLASSIFICATION REPORT ON TEST #########\")\n",
    "evaluate_model_performance(test_data_gen, model)"
   ]
  },
  {
   "cell_type": "code",
   "execution_count": null,
   "metadata": {},
   "outputs": [],
   "source": []
  }
 ],
 "metadata": {
  "kernelspec": {
   "display_name": "Python 3.9.15 ('sudoku')",
   "language": "python",
   "name": "python3"
  },
  "language_info": {
   "codemirror_mode": {
    "name": "ipython",
    "version": 3
   },
   "file_extension": ".py",
   "mimetype": "text/x-python",
   "name": "python",
   "nbconvert_exporter": "python",
   "pygments_lexer": "ipython3",
   "version": "3.9.15 (main, Nov  4 2022, 11:11:31) \n[Clang 12.0.0 ]"
  },
  "orig_nbformat": 4,
  "vscode": {
   "interpreter": {
    "hash": "a10d3830d35aaefc4b78fd84560eb81b6bc17a33b3371fa59ede04040de6cb58"
   }
  }
 },
 "nbformat": 4,
 "nbformat_minor": 2
}
